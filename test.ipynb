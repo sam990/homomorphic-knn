{
 "cells": [
  {
   "cell_type": "code",
   "execution_count": 1,
   "metadata": {},
   "outputs": [],
   "source": [
    "import numpy as np"
   ]
  },
  {
   "cell_type": "code",
   "execution_count": 42,
   "metadata": {},
   "outputs": [],
   "source": [
    "a_i = np.array([[1, 2, 3, 4], [4, 5, 6, 7], [7, 8, 9, 10]])"
   ]
  },
  {
   "cell_type": "code",
   "execution_count": 43,
   "metadata": {},
   "outputs": [],
   "source": [
    "b_i = np.array([[1, 2, 3 , 4], [5, 6, 7, 8], [9, 10, 11, 12], [13, 14 ,15, 16]])"
   ]
  },
  {
   "cell_type": "code",
   "execution_count": 10,
   "metadata": {},
   "outputs": [],
   "source": [
    "p = np.matmul(a_i[:,0], b_i)"
   ]
  },
  {
   "cell_type": "code",
   "execution_count": 28,
   "metadata": {},
   "outputs": [],
   "source": [
    "p = np.array([p]).T"
   ]
  },
  {
   "cell_type": "code",
   "execution_count": 37,
   "metadata": {},
   "outputs": [],
   "source": [
    "c_i = np.array([[]], dtype=np.int64).reshape(4, 0)"
   ]
  },
  {
   "cell_type": "code",
   "execution_count": 40,
   "metadata": {},
   "outputs": [],
   "source": [
    "c_i = np.hstack((c_i, p))"
   ]
  },
  {
   "cell_type": "code",
   "execution_count": 41,
   "metadata": {},
   "outputs": [
    {
     "data": {
      "text/plain": [
       "array([[214, 214],\n",
       "       [236, 236],\n",
       "       [258, 258],\n",
       "       [280, 280]])"
      ]
     },
     "execution_count": 41,
     "metadata": {},
     "output_type": "execute_result"
    }
   ],
   "source": [
    "c_i"
   ]
  },
  {
   "cell_type": "code",
   "execution_count": 59,
   "metadata": {},
   "outputs": [],
   "source": [
    "k_i = np.array([], dtype=np.int64).reshape(0, 4)"
   ]
  },
  {
   "cell_type": "code",
   "execution_count": 60,
   "metadata": {},
   "outputs": [
    {
     "name": "stdout",
     "output_type": "stream",
     "text": [
      "[ 90 100 110 120]\n",
      "[174 196 218 240]\n",
      "[258 292 326 360]\n"
     ]
    }
   ],
   "source": [
    "for p in a_i:\n",
    "    ll = np.matmul(p, b_i)\n",
    "    print(ll)\n",
    "    k_i = np.vstack((k_i, ll))"
   ]
  },
  {
   "cell_type": "code",
   "execution_count": 61,
   "metadata": {},
   "outputs": [
    {
     "data": {
      "text/plain": [
       "array([[ 90, 100, 110, 120],\n",
       "       [174, 196, 218, 240],\n",
       "       [258, 292, 326, 360]])"
      ]
     },
     "execution_count": 61,
     "metadata": {},
     "output_type": "execute_result"
    }
   ],
   "source": [
    "k_i"
   ]
  },
  {
   "cell_type": "markdown",
   "metadata": {},
   "source": []
  },
  {
   "cell_type": "code",
   "execution_count": 62,
   "metadata": {},
   "outputs": [
    {
     "data": {
      "text/plain": [
       "array([[ 90, 100, 110, 120],\n",
       "       [174, 196, 218, 240],\n",
       "       [258, 292, 326, 360]])"
      ]
     },
     "execution_count": 62,
     "metadata": {},
     "output_type": "execute_result"
    }
   ],
   "source": [
    "np.array([ np.matmul(p, b_i) for p in a_i ])"
   ]
  },
  {
   "cell_type": "code",
   "execution_count": 12,
   "metadata": {},
   "outputs": [],
   "source": [
    "data = np.random.randint(-5000, 5000, size=(1000, 20))"
   ]
  },
  {
   "cell_type": "code",
   "execution_count": 13,
   "metadata": {},
   "outputs": [],
   "source": [
    "with open('data.csv', 'w') as f:\n",
    "    for row in data:\n",
    "        f.write(','.join([str(x) for x in row]) + '\\n')"
   ]
  },
  {
   "cell_type": "code",
   "execution_count": 3,
   "metadata": {},
   "outputs": [
    {
     "data": {
      "text/plain": [
       "array([ 1,  2,  3,  4,  5,  6,  7,  8,  9, 10, 11, 12])"
      ]
     },
     "execution_count": 3,
     "metadata": {},
     "output_type": "execute_result"
    }
   ],
   "source": [
    "a = np.array([1, 2, 3, 4, 5, 6, 7, 8, 9])\n",
    "b = np.array([10, 11, 12])\n",
    "\n",
    "np.concatenate((a, b))"
   ]
  },
  {
   "cell_type": "code",
   "execution_count": 4,
   "metadata": {},
   "outputs": [
    {
     "data": {
      "text/plain": [
       "array([14, 32, 50])"
      ]
     },
     "execution_count": 4,
     "metadata": {},
     "output_type": "execute_result"
    }
   ],
   "source": [
    "an = np.array([[1, 2, 3], [4, 5, 6], [7, 8, 9]])\n",
    "\n",
    "np.dot(an, np.array([1, 2, 3]))"
   ]
  },
  {
   "cell_type": "code",
   "execution_count": 4,
   "metadata": {},
   "outputs": [
    {
     "data": {
      "text/plain": [
       "3.0"
      ]
     },
     "execution_count": 4,
     "metadata": {},
     "output_type": "execute_result"
    }
   ],
   "source": [
    "np.linalg.norm(np.array([1, 2, -2]))"
   ]
  },
  {
   "cell_type": "code",
   "execution_count": 3,
   "metadata": {},
   "outputs": [],
   "source": [
    "enc = np.array([[-97, 99, 72, -92, 49, -97, -55, 99, 58, 88, -66, 21, 8, 83, 29, -3, 86, -87, -48, 25],\n",
    "[-78, 28, -58, -89, 87, -56, 32, 88, 16, 36, 46, 94, 62, -82, 59, -58, -14, 63, 71, -60],\n",
    "[-29, -65, 30, 52, 8, -54, 58, -51, 17, -16, -35, -44, -35, -45, -4, 4, 95, 43, -56, 39],\n",
    "[-19, 55, -2, -63, 12, -72, -59, 22, -64, -1, 88, 64, 24, -8, 87, 59, 32, -22, 15, 56],\n",
    "[3, 26, -65, 6, 39, 38, -39, -11, 69, -87, 87, -81, -25, -53, 56, -92, -5, 75, -27, 48],\n",
    "[43, 33, -30, -40, 38, -72, 7, -74, 31, 7, 45, 24, 61, 57, 18, -91, -38, 42, -42, 55],\n",
    "[99, -45, 30, -65, 58, -90, 20, -26, -4, 60, 21, -3, 19, -73, 32, 43, -55, 30, -3, -31]])\n",
    "\n",
    "dec = np.array([[-78, 28, -58, -89, 87, -56, 32, 88, 16, 36, 46, 94, 62, -82, 59, -58, -14, 63, 71, -60],\n",
    "[-59, -65, -28, 66, 60, 25, 29, -35, -19, 20, 37, -73, 9, -39, 30, 60, 0, -27, -87, 72],\n",
    "[-29, -65, 30, 52, 8, -54, 58, -51, 17, -16, -35, -44, -35, -45, -4, 4, 95, 43, -56, 39],\n",
    "[-19, 55, -2, -63, 12, -72, -59, 22, -64, -1, 88, 64, 24, -8, 87, 59, 32, -22, 15, 56],\n",
    "[3, 26, -65, 6, 39, 38, -39, -11, 69, -87, 87, -81, -25, -53, 56, -92, -5, 75, -27, 48],\n",
    "[43, 33, -30, -40, 38, -72, 7, -74, 31, 7, 45, 24, 61, 57, 18, -91, -38, 42, -42, 55],\n",
    "[99, -45, 30, -65, 58, -90, 20, -26, -4, 60, 21, -3, 19, -73, 32, 43, -55, 30, -3, -31]])\n",
    "\n",
    "qr = np.array([-73,  -6 ,-40  , 1 , 95, -92, -84, -78 ,-15,  73, -18 , 49, -30, -20 , 87 ,-60,  62,  94 ,-21,  23])"
   ]
  },
  {
   "cell_type": "code",
   "execution_count": 7,
   "metadata": {},
   "outputs": [
    {
     "data": {
      "text/plain": [
       "array([358.44525384, 309.21513546, 280.9003382 , 288.77499892,\n",
       "       321.23355989, 271.79220004, 315.65487482])"
      ]
     },
     "execution_count": 7,
     "metadata": {},
     "output_type": "execute_result"
    }
   ],
   "source": [
    "np.linalg.norm(enc - qr, axis=1)"
   ]
  },
  {
   "cell_type": "code",
   "execution_count": 8,
   "metadata": {},
   "outputs": [
    {
     "data": {
      "text/plain": [
       "array([309.21513546, 321.06852851, 280.9003382 , 288.77499892,\n",
       "       321.23355989, 271.79220004, 315.65487482])"
      ]
     },
     "execution_count": 8,
     "metadata": {},
     "output_type": "execute_result"
    }
   ],
   "source": [
    "np.linalg.norm(dec - qr, axis=1)"
   ]
  },
  {
   "cell_type": "code",
   "execution_count": 9,
   "metadata": {},
   "outputs": [
    {
     "data": {
      "text/plain": [
       "array([21303, 28364, 16611, 18875, 14266, 21448,  9685])"
      ]
     },
     "execution_count": 9,
     "metadata": {},
     "output_type": "execute_result"
    }
   ],
   "source": [
    "np.dot(enc, qr)"
   ]
  }
 ],
 "metadata": {
  "kernelspec": {
   "display_name": "knn",
   "language": "python",
   "name": "python3"
  },
  "language_info": {
   "codemirror_mode": {
    "name": "ipython",
    "version": 3
   },
   "file_extension": ".py",
   "mimetype": "text/x-python",
   "name": "python",
   "nbconvert_exporter": "python",
   "pygments_lexer": "ipython3",
   "version": "3.11.6"
  }
 },
 "nbformat": 4,
 "nbformat_minor": 2
}
